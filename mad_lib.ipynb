{
  "nbformat": 4,
  "nbformat_minor": 0,
  "metadata": {
    "colab": {
      "provenance": [],
      "authorship_tag": "ABX9TyPJUUA37tz3ce/38KOuK07W",
      "include_colab_link": true
    },
    "kernelspec": {
      "name": "python3",
      "display_name": "Python 3"
    },
    "language_info": {
      "name": "python"
    }
  },
  "cells": [
    {
      "cell_type": "markdown",
      "metadata": {
        "id": "view-in-github",
        "colab_type": "text"
      },
      "source": [
        "<a href=\"https://colab.research.google.com/github/muzamil8888/python-project101/blob/main/mad_lib.ipynb\" target=\"_parent\"><img src=\"https://colab.research.google.com/assets/colab-badge.svg\" alt=\"Open In Colab\"/></a>"
      ]
    },
    {
      "cell_type": "code",
      "execution_count": null,
      "metadata": {
        "id": "JhZwsZMciEwC"
      },
      "outputs": [],
      "source": [
        "dj = input(\"Adjective:for example Amazing,nice,excillent\")\n",
        "verb1 = input(\"Name first programing language:\")\n",
        "verb2 = input(\"Name of second programing language:\")\n",
        "famperson = input(\"famousPerson name\")\n",
        "\n",
        "\n",
        "print(f\"\"\"\n",
        "I have a {adj} computer.and i am learning {verb1} on it and  i also learning {verb2} and when i complete it i feel like a\n",
        "{famperson}\n",
        "\"\"\")\n"
      ]
    }
  ]
}