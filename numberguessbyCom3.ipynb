{
  "nbformat": 4,
  "nbformat_minor": 0,
  "metadata": {
    "colab": {
      "provenance": [],
      "authorship_tag": "ABX9TyMf+638MXsPjr7rF+fpzedg",
      "include_colab_link": true
    },
    "kernelspec": {
      "name": "python3",
      "display_name": "Python 3"
    },
    "language_info": {
      "name": "python"
    }
  },
  "cells": [
    {
      "cell_type": "markdown",
      "metadata": {
        "id": "view-in-github",
        "colab_type": "text"
      },
      "source": [
        "<a href=\"https://colab.research.google.com/github/muzamil8888/python-project101/blob/main/numberguessbyCom3.ipynb\" target=\"_parent\"><img src=\"https://colab.research.google.com/assets/colab-badge.svg\" alt=\"Open In Colab\"/></a>"
      ]
    },
    {
      "cell_type": "code",
      "execution_count": 1,
      "metadata": {
        "colab": {
          "base_uri": "https://localhost:8080/"
        },
        "id": "jDYhLNF8kkjW",
        "outputId": "ce670bca-1a4d-45c4-eea3-812e7864a309"
      },
      "outputs": [
        {
          "output_type": "stream",
          "name": "stdout",
          "text": [
            "Is 68 too hight (H), too low (L), or correct (C)??h\n",
            "Is 67 too hight (H), too low (L), or correct (C)??h\n",
            "Is 14 too hight (H), too low (L), or correct (C)??l\n",
            "Is 34 too hight (H), too low (L), or correct (C)??l\n",
            "Is 65 too hight (H), too low (L), or correct (C)??h\n",
            "Is 56 too hight (H), too low (L), or correct (C)??l\n",
            "Is 59 too hight (H), too low (L), or correct (C)??c\n",
            "YAY ! The computer guessed your number, 59,Correctly!\n"
          ]
        }
      ],
      "source": [
        "import random\n",
        "\n",
        "def computer_guess(x):\n",
        "    low = 1\n",
        "    high = x\n",
        "    feedback = ' '\n",
        "    while feedback != 'c':\n",
        "        if low != high:\n",
        "            guess = random.randint(low, high)\n",
        "        else:\n",
        "            guess = low\n",
        "        feedback = input(f\"Is {guess} too hight (H), too low (L), or correct (C)??\").lower()\n",
        "        if feedback == \"h\":\n",
        "            high = guess - 1\n",
        "        elif feedback == \"l\":\n",
        "            low = guess + 1\n",
        "    print(f\"YAY ! The computer guessed your number, {guess},Correctly!\")\n",
        "computer_guess(100)"
      ]
    }
  ]
}