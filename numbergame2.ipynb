{
  "nbformat": 4,
  "nbformat_minor": 0,
  "metadata": {
    "colab": {
      "provenance": [],
      "authorship_tag": "ABX9TyP5UOj+/qtfrORKBjPMysvJ",
      "include_colab_link": true
    },
    "kernelspec": {
      "name": "python3",
      "display_name": "Python 3"
    },
    "language_info": {
      "name": "python"
    }
  },
  "cells": [
    {
      "cell_type": "markdown",
      "metadata": {
        "id": "view-in-github",
        "colab_type": "text"
      },
      "source": [
        "<a href=\"https://colab.research.google.com/github/muzamil8888/python-project101/blob/main/numbergame2.ipynb\" target=\"_parent\"><img src=\"https://colab.research.google.com/assets/colab-badge.svg\" alt=\"Open In Colab\"/></a>"
      ]
    },
    {
      "cell_type": "code",
      "execution_count": null,
      "metadata": {
        "id": "mCrxM6eekWPC"
      },
      "outputs": [],
      "source": [
        "import random\n",
        "\n",
        "def guess(x):\n",
        "    random_number = random.randint(1, x)\n",
        "    guess = 0\n",
        "    while guess != random_number:\n",
        "        guess = int(input(f\"Guess a number betweem 1 and {x}:\"))\n",
        "        print(guess)\n",
        "        if guess < random_number:\n",
        "            print(\"Too low.\")\n",
        "        elif guess > random_number:\n",
        "            print(\"Too high.\")\n",
        "    print(f\"You have guessed number {random_number}:\")\n",
        "guess(10)"
      ]
    }
  ]
}