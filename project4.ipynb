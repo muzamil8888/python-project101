{
  "nbformat": 4,
  "nbformat_minor": 0,
  "metadata": {
    "colab": {
      "provenance": [],
      "authorship_tag": "ABX9TyPG6sZi/bHNWCKGrwoQXgut",
      "include_colab_link": true
    },
    "kernelspec": {
      "name": "python3",
      "display_name": "Python 3"
    },
    "language_info": {
      "name": "python"
    }
  },
  "cells": [
    {
      "cell_type": "markdown",
      "metadata": {
        "id": "view-in-github",
        "colab_type": "text"
      },
      "source": [
        "<a href=\"https://colab.research.google.com/github/muzamil8888/python-project101/blob/main/project4.ipynb\" target=\"_parent\"><img src=\"https://colab.research.google.com/assets/colab-badge.svg\" alt=\"Open In Colab\"/></a>"
      ]
    },
    {
      "cell_type": "code",
      "execution_count": null,
      "metadata": {
        "id": "PLatoStck-D2"
      },
      "outputs": [],
      "source": [
        "import random\n",
        "def game():\n",
        "  user =input(\"Enter a choice (r, p, s):\\n\")\n",
        "  user = user.lower()\n",
        "  computer_actions = random.choice([\"r\", \"p\", \"s\"])\n",
        "\n",
        "  if user == computer_actions:\n",
        "       return \"It's a tie!\"\n",
        "\n",
        "  if is_win(user, computer_actions):\n",
        "       return \"You Won\"\n",
        "\n",
        "  return \"You Lost\"\n",
        "\n",
        "def is_win(player, opponent):\n",
        "  if (player == \"r\" and opponent == \"s\") or (player == \"p\" and opponent == \"r\") \\\n",
        "      or (player == \"s\" and opponent == \"p\"):\n",
        "      return True\n",
        "print(game())"
      ]
    }
  ]
}